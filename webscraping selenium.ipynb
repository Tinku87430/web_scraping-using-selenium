{
 "cells": [
  {
   "cell_type": "code",
   "execution_count": 1,
   "metadata": {},
   "outputs": [
    {
     "name": "stdout",
     "output_type": "stream",
     "text": [
      "Requirement already satisfied: selenium in c:\\users\\hp\\anaconda3\\lib\\site-packages (3.141.0)\n",
      "Requirement already satisfied: urllib3 in c:\\users\\hp\\anaconda3\\lib\\site-packages (from selenium) (1.25.11)\n",
      "Note: you may need to restart the kernel to use updated packages.\n"
     ]
    }
   ],
   "source": [
    "pip install selenium"
   ]
  },
  {
   "cell_type": "code",
   "execution_count": 2,
   "metadata": {},
   "outputs": [],
   "source": [
    "import selenium\n",
    "import pandas as pd\n",
    "from selenium import webdriver"
   ]
  },
  {
   "cell_type": "code",
   "execution_count": 3,
   "metadata": {},
   "outputs": [],
   "source": [
    "driver=webdriver.Chrome(r\"C:\\Users\\HP\\Downloads\\chromedriver_win32\\chromedriver.exe\")"
   ]
  },
  {
   "cell_type": "code",
   "execution_count": 4,
   "metadata": {},
   "outputs": [],
   "source": [
    "driver=webdriver.Chrome(\"chromedriver.exe\")"
   ]
  },
  {
   "cell_type": "code",
   "execution_count": 5,
   "metadata": {},
   "outputs": [],
   "source": [
    "url=\"https://www.naukri.com/\"\n",
    "driver.get(url)"
   ]
  },
  {
   "cell_type": "code",
   "execution_count": 6,
   "metadata": {},
   "outputs": [
    {
     "data": {
      "text/plain": [
       "<selenium.webdriver.remote.webelement.WebElement (session=\"fffb2f6d9951cef9e983d8e259269f30\", element=\"11b8346d-58e7-45af-8223-d6fd0ee8d9c1\")>"
      ]
     },
     "execution_count": 6,
     "metadata": {},
     "output_type": "execute_result"
    }
   ],
   "source": [
    "# finding element for job search bar\n",
    "search_job=driver.find_element_by_id('qsb-keyword-sugg')\n",
    "search_job"
   ]
  },
  {
   "cell_type": "code",
   "execution_count": 7,
   "metadata": {},
   "outputs": [],
   "source": [
    "search_job.send_keys('data scientist')"
   ]
  },
  {
   "cell_type": "code",
   "execution_count": 8,
   "metadata": {},
   "outputs": [
    {
     "data": {
      "text/plain": [
       "<selenium.webdriver.remote.webelement.WebElement (session=\"fffb2f6d9951cef9e983d8e259269f30\", element=\"268ee598-b5cf-4708-a0aa-0afd254f1d87\")>"
      ]
     },
     "execution_count": 8,
     "metadata": {},
     "output_type": "execute_result"
    }
   ],
   "source": [
    "# finding element for job location bar\n",
    "search_loc=driver.find_element_by_id('qsb-location-sugg')\n",
    "search_loc"
   ]
  },
  {
   "cell_type": "code",
   "execution_count": 9,
   "metadata": {},
   "outputs": [],
   "source": [
    "search_loc.send_keys('delhi')"
   ]
  },
  {
   "cell_type": "code",
   "execution_count": 10,
   "metadata": {},
   "outputs": [
    {
     "data": {
      "text/plain": [
       "<selenium.webdriver.remote.webelement.WebElement (session=\"fffb2f6d9951cef9e983d8e259269f30\", element=\"25a3ae1a-b27b-4e50-b7b1-e578b2273001\")>"
      ]
     },
     "execution_count": 10,
     "metadata": {},
     "output_type": "execute_result"
    }
   ],
   "source": [
    "# do click using by xpath function\n",
    "search_btn=driver.find_element_by_xpath(\"//button[@class='btn']\")\n",
    "search_btn\n"
   ]
  },
  {
   "cell_type": "code",
   "execution_count": 11,
   "metadata": {},
   "outputs": [],
   "source": [
    "search_btn.click()"
   ]
  },
  {
   "cell_type": "code",
   "execution_count": 12,
   "metadata": {},
   "outputs": [],
   "source": [
    "# so lets the extract all the tag having the job titles\n",
    "titles_tags=driver.find_elements_by_xpath(\"//a[@class='title fw500 ellipsis']\")"
   ]
  },
  {
   "cell_type": "code",
   "execution_count": 13,
   "metadata": {},
   "outputs": [
    {
     "data": {
      "text/plain": [
       "[]"
      ]
     },
     "execution_count": 13,
     "metadata": {},
     "output_type": "execute_result"
    }
   ],
   "source": [
    "titles_tags"
   ]
  },
  {
   "cell_type": "code",
   "execution_count": 14,
   "metadata": {},
   "outputs": [
    {
     "data": {
      "text/plain": [
       "[]"
      ]
     },
     "execution_count": 14,
     "metadata": {},
     "output_type": "execute_result"
    }
   ],
   "source": [
    "job_titles=[]\n",
    "for i in titles_tags:\n",
    "    job_titles.append(i.text)\n",
    "job_titles    \n"
   ]
  },
  {
   "cell_type": "code",
   "execution_count": 15,
   "metadata": {},
   "outputs": [],
   "source": [
    "## so lets the extract all the tag having the company tags\n",
    "company_tags=driver.find_elements_by_xpath(\"//a[@class='subTitle ellipsis fleft']\")"
   ]
  },
  {
   "cell_type": "code",
   "execution_count": 16,
   "metadata": {},
   "outputs": [
    {
     "data": {
      "text/plain": [
       "[]"
      ]
     },
     "execution_count": 16,
     "metadata": {},
     "output_type": "execute_result"
    }
   ],
   "source": [
    "company_tags"
   ]
  },
  {
   "cell_type": "code",
   "execution_count": 17,
   "metadata": {},
   "outputs": [],
   "source": [
    "company_name=[]\n",
    "for i in company_tags:\n",
    "    company_name.append(i.text)"
   ]
  },
  {
   "cell_type": "code",
   "execution_count": 18,
   "metadata": {},
   "outputs": [
    {
     "data": {
      "text/plain": [
       "[]"
      ]
     },
     "execution_count": 18,
     "metadata": {},
     "output_type": "execute_result"
    }
   ],
   "source": [
    "company_name"
   ]
  },
  {
   "cell_type": "code",
   "execution_count": 19,
   "metadata": {},
   "outputs": [
    {
     "data": {
      "text/plain": [
       "[]"
      ]
     },
     "execution_count": 19,
     "metadata": {},
     "output_type": "execute_result"
    }
   ],
   "source": [
    "# so lets the extract all the tag having the experience required data\n",
    "experience_tags=driver.find_elements_by_xpath(\"//span[@class='ellipsis fleft fs12 lh16']\")\n",
    "experience_tags"
   ]
  },
  {
   "cell_type": "code",
   "execution_count": 20,
   "metadata": {},
   "outputs": [],
   "source": [
    "experience_list=[]\n",
    "for i in experience_tags:\n",
    "    experience_list.append(i.text)"
   ]
  },
  {
   "cell_type": "code",
   "execution_count": 21,
   "metadata": {},
   "outputs": [
    {
     "data": {
      "text/plain": [
       "[]"
      ]
     },
     "execution_count": 21,
     "metadata": {},
     "output_type": "execute_result"
    }
   ],
   "source": [
    "experience_list"
   ]
  },
  {
   "cell_type": "code",
   "execution_count": 22,
   "metadata": {},
   "outputs": [],
   "source": [
    "experience=driver.find_elements_by_xpath('//li[@class=\"fleft grey-text br2 placeHolderLi experience\"]//span')"
   ]
  },
  {
   "cell_type": "code",
   "execution_count": 23,
   "metadata": {},
   "outputs": [
    {
     "data": {
      "text/plain": [
       "[]"
      ]
     },
     "execution_count": 23,
     "metadata": {},
     "output_type": "execute_result"
    }
   ],
   "source": [
    "experience"
   ]
  },
  {
   "cell_type": "code",
   "execution_count": 24,
   "metadata": {},
   "outputs": [],
   "source": [
    "exp=[]\n",
    "for i in experience:\n",
    "    exp.append(i.text)"
   ]
  },
  {
   "cell_type": "code",
   "execution_count": 25,
   "metadata": {},
   "outputs": [
    {
     "data": {
      "text/plain": [
       "[]"
      ]
     },
     "execution_count": 25,
     "metadata": {},
     "output_type": "execute_result"
    }
   ],
   "source": [
    "exp"
   ]
  },
  {
   "cell_type": "code",
   "execution_count": 26,
   "metadata": {},
   "outputs": [],
   "source": [
    "location_tag=driver.find_elements_by_xpath('//li[@class=\"fleft grey-text br2 placeHolderLi location\"]//span')"
   ]
  },
  {
   "cell_type": "code",
   "execution_count": 27,
   "metadata": {},
   "outputs": [
    {
     "data": {
      "text/plain": [
       "[<selenium.webdriver.remote.webelement.WebElement (session=\"fffb2f6d9951cef9e983d8e259269f30\", element=\"3baefa98-a2f0-415e-aca3-cd77d4886cfa\")>,\n",
       " <selenium.webdriver.remote.webelement.WebElement (session=\"fffb2f6d9951cef9e983d8e259269f30\", element=\"869687cc-0803-4427-b071-020d34949c66\")>,\n",
       " <selenium.webdriver.remote.webelement.WebElement (session=\"fffb2f6d9951cef9e983d8e259269f30\", element=\"ef21159b-a682-4aee-8070-d2f0baef5633\")>,\n",
       " <selenium.webdriver.remote.webelement.WebElement (session=\"fffb2f6d9951cef9e983d8e259269f30\", element=\"ad344b6e-c903-4140-bc8d-b9f4a78d762f\")>,\n",
       " <selenium.webdriver.remote.webelement.WebElement (session=\"fffb2f6d9951cef9e983d8e259269f30\", element=\"a66d8a89-dca9-4217-8eb5-ea170a1c2114\")>,\n",
       " <selenium.webdriver.remote.webelement.WebElement (session=\"fffb2f6d9951cef9e983d8e259269f30\", element=\"994fcae7-f331-4881-b3e6-8ffa5b1e31f2\")>,\n",
       " <selenium.webdriver.remote.webelement.WebElement (session=\"fffb2f6d9951cef9e983d8e259269f30\", element=\"16212a04-5d8d-4680-a881-7f3c02e41667\")>,\n",
       " <selenium.webdriver.remote.webelement.WebElement (session=\"fffb2f6d9951cef9e983d8e259269f30\", element=\"39d229d9-fb0e-4024-a920-a8b47de4d682\")>,\n",
       " <selenium.webdriver.remote.webelement.WebElement (session=\"fffb2f6d9951cef9e983d8e259269f30\", element=\"77b1c550-678e-4d34-ab78-ce204d0ac905\")>,\n",
       " <selenium.webdriver.remote.webelement.WebElement (session=\"fffb2f6d9951cef9e983d8e259269f30\", element=\"18e5e315-a412-44aa-a1b5-8542e405af2e\")>,\n",
       " <selenium.webdriver.remote.webelement.WebElement (session=\"fffb2f6d9951cef9e983d8e259269f30\", element=\"6b6d2a2d-66a0-4c96-a395-69d8f686befb\")>,\n",
       " <selenium.webdriver.remote.webelement.WebElement (session=\"fffb2f6d9951cef9e983d8e259269f30\", element=\"32547a1a-41c0-4812-b5e4-01ab23390c7a\")>,\n",
       " <selenium.webdriver.remote.webelement.WebElement (session=\"fffb2f6d9951cef9e983d8e259269f30\", element=\"7faff032-dfe0-43f5-9db6-74a35c9efbb4\")>,\n",
       " <selenium.webdriver.remote.webelement.WebElement (session=\"fffb2f6d9951cef9e983d8e259269f30\", element=\"39d3e76b-8bd5-4864-bc13-0fc78bb71b29\")>,\n",
       " <selenium.webdriver.remote.webelement.WebElement (session=\"fffb2f6d9951cef9e983d8e259269f30\", element=\"482ca35b-63d4-4203-ae4a-8e4833cd7d33\")>,\n",
       " <selenium.webdriver.remote.webelement.WebElement (session=\"fffb2f6d9951cef9e983d8e259269f30\", element=\"6fdbd133-70aa-4a52-8b8d-a14f7c71acc7\")>,\n",
       " <selenium.webdriver.remote.webelement.WebElement (session=\"fffb2f6d9951cef9e983d8e259269f30\", element=\"b00af2a0-9070-4192-aaa6-ffde3a46a7fe\")>,\n",
       " <selenium.webdriver.remote.webelement.WebElement (session=\"fffb2f6d9951cef9e983d8e259269f30\", element=\"4ccf6adf-865a-4b3b-b65d-2642664cb6f0\")>,\n",
       " <selenium.webdriver.remote.webelement.WebElement (session=\"fffb2f6d9951cef9e983d8e259269f30\", element=\"bd339f61-c235-4184-be5e-12079a69d1e2\")>,\n",
       " <selenium.webdriver.remote.webelement.WebElement (session=\"fffb2f6d9951cef9e983d8e259269f30\", element=\"44526348-02a5-4854-8746-b63f82696705\")>]"
      ]
     },
     "execution_count": 27,
     "metadata": {},
     "output_type": "execute_result"
    }
   ],
   "source": [
    "location_tag"
   ]
  },
  {
   "cell_type": "code",
   "execution_count": 28,
   "metadata": {},
   "outputs": [
    {
     "data": {
      "text/plain": [
       "['Pune, Delhi / NCR, Mumbai (All Areas)',\n",
       " 'Gurgaon/Gurugram, Delhi / NCR',\n",
       " 'Noida, Bangalore/Bengaluru',\n",
       " 'Hyderabad/Secunderabad, Gurgaon/Gurugram, Bangalore/Bengaluru',\n",
       " 'Pune, Chennai, Bangalore/Bengaluru, Delhi / NCR',\n",
       " 'Mumbai, Gurgaon/Gurugram, Bangalore/Bengaluru',\n",
       " 'Noida, Chennai',\n",
       " 'Chennai, Delhi / NCR',\n",
       " 'Gurgaon/Gurugram',\n",
       " 'Noida',\n",
       " 'Delhi / NCR',\n",
       " 'Gurgaon/Gurugram',\n",
       " 'Gurgaon/Gurugram',\n",
       " 'Gurgaon/Gurugram, Delhi / NCR',\n",
       " 'Gurgaon/Gurugram, Delhi / NCR',\n",
       " 'Noida',\n",
       " 'Noida',\n",
       " 'Noida',\n",
       " 'Gurgaon/Gurugram',\n",
       " 'Noida, Gurgaon/Gurugram']"
      ]
     },
     "execution_count": 28,
     "metadata": {},
     "output_type": "execute_result"
    }
   ],
   "source": [
    "loc_tag=[]\n",
    "for i in location_tag:\n",
    "    loc_tag.append(i.text)\n",
    "loc_tag"
   ]
  },
  {
   "cell_type": "code",
   "execution_count": 29,
   "metadata": {},
   "outputs": [
    {
     "name": "stdout",
     "output_type": "stream",
     "text": [
      "0 0 0 20\n"
     ]
    }
   ],
   "source": [
    "print(len(job_titles),len(company_name),len(exp),len(loc_tag))"
   ]
  },
  {
   "cell_type": "code",
   "execution_count": 30,
   "metadata": {},
   "outputs": [],
   "source": [
    "#import pandas as pd\n",
    "jobs=pd.DataFrame({})\n",
    "jobs[\"Titles\"]=job_titles\n",
    "jobs[\"Company\"]=company_name\n",
    "jobs[\"experience\"]=exp\n",
    "jobs[\"Location\"]=loc_tag"
   ]
  },
  {
   "cell_type": "code",
   "execution_count": 31,
   "metadata": {},
   "outputs": [
    {
     "data": {
      "text/html": [
       "<div>\n",
       "<style scoped>\n",
       "    .dataframe tbody tr th:only-of-type {\n",
       "        vertical-align: middle;\n",
       "    }\n",
       "\n",
       "    .dataframe tbody tr th {\n",
       "        vertical-align: top;\n",
       "    }\n",
       "\n",
       "    .dataframe thead th {\n",
       "        text-align: right;\n",
       "    }\n",
       "</style>\n",
       "<table border=\"1\" class=\"dataframe\">\n",
       "  <thead>\n",
       "    <tr style=\"text-align: right;\">\n",
       "      <th></th>\n",
       "      <th>Titles</th>\n",
       "      <th>Company</th>\n",
       "      <th>experience</th>\n",
       "      <th>Location</th>\n",
       "    </tr>\n",
       "  </thead>\n",
       "  <tbody>\n",
       "    <tr>\n",
       "      <th>0</th>\n",
       "      <td>NaN</td>\n",
       "      <td>NaN</td>\n",
       "      <td>NaN</td>\n",
       "      <td>Pune, Delhi / NCR, Mumbai (All Areas)</td>\n",
       "    </tr>\n",
       "    <tr>\n",
       "      <th>1</th>\n",
       "      <td>NaN</td>\n",
       "      <td>NaN</td>\n",
       "      <td>NaN</td>\n",
       "      <td>Gurgaon/Gurugram, Delhi / NCR</td>\n",
       "    </tr>\n",
       "    <tr>\n",
       "      <th>2</th>\n",
       "      <td>NaN</td>\n",
       "      <td>NaN</td>\n",
       "      <td>NaN</td>\n",
       "      <td>Noida, Bangalore/Bengaluru</td>\n",
       "    </tr>\n",
       "    <tr>\n",
       "      <th>3</th>\n",
       "      <td>NaN</td>\n",
       "      <td>NaN</td>\n",
       "      <td>NaN</td>\n",
       "      <td>Hyderabad/Secunderabad, Gurgaon/Gurugram, Bang...</td>\n",
       "    </tr>\n",
       "    <tr>\n",
       "      <th>4</th>\n",
       "      <td>NaN</td>\n",
       "      <td>NaN</td>\n",
       "      <td>NaN</td>\n",
       "      <td>Pune, Chennai, Bangalore/Bengaluru, Delhi / NCR</td>\n",
       "    </tr>\n",
       "    <tr>\n",
       "      <th>5</th>\n",
       "      <td>NaN</td>\n",
       "      <td>NaN</td>\n",
       "      <td>NaN</td>\n",
       "      <td>Mumbai, Gurgaon/Gurugram, Bangalore/Bengaluru</td>\n",
       "    </tr>\n",
       "    <tr>\n",
       "      <th>6</th>\n",
       "      <td>NaN</td>\n",
       "      <td>NaN</td>\n",
       "      <td>NaN</td>\n",
       "      <td>Noida, Chennai</td>\n",
       "    </tr>\n",
       "    <tr>\n",
       "      <th>7</th>\n",
       "      <td>NaN</td>\n",
       "      <td>NaN</td>\n",
       "      <td>NaN</td>\n",
       "      <td>Chennai, Delhi / NCR</td>\n",
       "    </tr>\n",
       "    <tr>\n",
       "      <th>8</th>\n",
       "      <td>NaN</td>\n",
       "      <td>NaN</td>\n",
       "      <td>NaN</td>\n",
       "      <td>Gurgaon/Gurugram</td>\n",
       "    </tr>\n",
       "    <tr>\n",
       "      <th>9</th>\n",
       "      <td>NaN</td>\n",
       "      <td>NaN</td>\n",
       "      <td>NaN</td>\n",
       "      <td>Noida</td>\n",
       "    </tr>\n",
       "    <tr>\n",
       "      <th>10</th>\n",
       "      <td>NaN</td>\n",
       "      <td>NaN</td>\n",
       "      <td>NaN</td>\n",
       "      <td>Delhi / NCR</td>\n",
       "    </tr>\n",
       "    <tr>\n",
       "      <th>11</th>\n",
       "      <td>NaN</td>\n",
       "      <td>NaN</td>\n",
       "      <td>NaN</td>\n",
       "      <td>Gurgaon/Gurugram</td>\n",
       "    </tr>\n",
       "    <tr>\n",
       "      <th>12</th>\n",
       "      <td>NaN</td>\n",
       "      <td>NaN</td>\n",
       "      <td>NaN</td>\n",
       "      <td>Gurgaon/Gurugram</td>\n",
       "    </tr>\n",
       "    <tr>\n",
       "      <th>13</th>\n",
       "      <td>NaN</td>\n",
       "      <td>NaN</td>\n",
       "      <td>NaN</td>\n",
       "      <td>Gurgaon/Gurugram, Delhi / NCR</td>\n",
       "    </tr>\n",
       "    <tr>\n",
       "      <th>14</th>\n",
       "      <td>NaN</td>\n",
       "      <td>NaN</td>\n",
       "      <td>NaN</td>\n",
       "      <td>Gurgaon/Gurugram, Delhi / NCR</td>\n",
       "    </tr>\n",
       "    <tr>\n",
       "      <th>15</th>\n",
       "      <td>NaN</td>\n",
       "      <td>NaN</td>\n",
       "      <td>NaN</td>\n",
       "      <td>Noida</td>\n",
       "    </tr>\n",
       "    <tr>\n",
       "      <th>16</th>\n",
       "      <td>NaN</td>\n",
       "      <td>NaN</td>\n",
       "      <td>NaN</td>\n",
       "      <td>Noida</td>\n",
       "    </tr>\n",
       "    <tr>\n",
       "      <th>17</th>\n",
       "      <td>NaN</td>\n",
       "      <td>NaN</td>\n",
       "      <td>NaN</td>\n",
       "      <td>Noida</td>\n",
       "    </tr>\n",
       "    <tr>\n",
       "      <th>18</th>\n",
       "      <td>NaN</td>\n",
       "      <td>NaN</td>\n",
       "      <td>NaN</td>\n",
       "      <td>Gurgaon/Gurugram</td>\n",
       "    </tr>\n",
       "    <tr>\n",
       "      <th>19</th>\n",
       "      <td>NaN</td>\n",
       "      <td>NaN</td>\n",
       "      <td>NaN</td>\n",
       "      <td>Noida, Gurgaon/Gurugram</td>\n",
       "    </tr>\n",
       "  </tbody>\n",
       "</table>\n",
       "</div>"
      ],
      "text/plain": [
       "    Titles  Company  experience  \\\n",
       "0      NaN      NaN         NaN   \n",
       "1      NaN      NaN         NaN   \n",
       "2      NaN      NaN         NaN   \n",
       "3      NaN      NaN         NaN   \n",
       "4      NaN      NaN         NaN   \n",
       "5      NaN      NaN         NaN   \n",
       "6      NaN      NaN         NaN   \n",
       "7      NaN      NaN         NaN   \n",
       "8      NaN      NaN         NaN   \n",
       "9      NaN      NaN         NaN   \n",
       "10     NaN      NaN         NaN   \n",
       "11     NaN      NaN         NaN   \n",
       "12     NaN      NaN         NaN   \n",
       "13     NaN      NaN         NaN   \n",
       "14     NaN      NaN         NaN   \n",
       "15     NaN      NaN         NaN   \n",
       "16     NaN      NaN         NaN   \n",
       "17     NaN      NaN         NaN   \n",
       "18     NaN      NaN         NaN   \n",
       "19     NaN      NaN         NaN   \n",
       "\n",
       "                                             Location  \n",
       "0               Pune, Delhi / NCR, Mumbai (All Areas)  \n",
       "1                       Gurgaon/Gurugram, Delhi / NCR  \n",
       "2                          Noida, Bangalore/Bengaluru  \n",
       "3   Hyderabad/Secunderabad, Gurgaon/Gurugram, Bang...  \n",
       "4     Pune, Chennai, Bangalore/Bengaluru, Delhi / NCR  \n",
       "5       Mumbai, Gurgaon/Gurugram, Bangalore/Bengaluru  \n",
       "6                                      Noida, Chennai  \n",
       "7                                Chennai, Delhi / NCR  \n",
       "8                                    Gurgaon/Gurugram  \n",
       "9                                               Noida  \n",
       "10                                        Delhi / NCR  \n",
       "11                                   Gurgaon/Gurugram  \n",
       "12                                   Gurgaon/Gurugram  \n",
       "13                      Gurgaon/Gurugram, Delhi / NCR  \n",
       "14                      Gurgaon/Gurugram, Delhi / NCR  \n",
       "15                                              Noida  \n",
       "16                                              Noida  \n",
       "17                                              Noida  \n",
       "18                                   Gurgaon/Gurugram  \n",
       "19                            Noida, Gurgaon/Gurugram  "
      ]
     },
     "execution_count": 31,
     "metadata": {},
     "output_type": "execute_result"
    }
   ],
   "source": [
    "jobs"
   ]
  },
  {
   "cell_type": "code",
   "execution_count": 32,
   "metadata": {},
   "outputs": [],
   "source": [
    "#scrape data from job opening"
   ]
  },
  {
   "cell_type": "code",
   "execution_count": 33,
   "metadata": {},
   "outputs": [
    {
     "data": {
      "text/plain": [
       "['https://www.naukri.com/job-listings-data-scientist-data-analyst-business-analyst-inflexion-analytix-private-limited-pune-delhi-ncr-mumbai-all-areas-0-to-3-years-040721000317?src=jobsearchDesk&sid=16260839032145267&xp=1&px=1',\n",
       " 'https://www.naukri.com/job-listings-team-leader-operations-data-scientist-optimint-solutions-pvt-ltd-gurgaon-gurugram-delhi-ncr-2-to-5-years-100721001224?src=jobsearchDesk&sid=16260839032145267&xp=2&px=1',\n",
       " 'https://www.naukri.com/job-listings-data-scientist-oracle-india-pvt-ltd-noida-bangalore-bengaluru-5-to-9-years-010621004567?src=jobsearchDesk&sid=16260839032145267&xp=3&px=1',\n",
       " 'https://www.naukri.com/job-listings-senior-data-scientist-inventiv-international-pharma-services-pvt-ltd-hyderabad-secunderabad-gurgaon-gurugram-bangalore-bengaluru-3-to-6-years-090721000064?src=jobsearchDesk&sid=16260839032145267&xp=4&px=1',\n",
       " 'https://www.naukri.com/job-listings-exl-senior-data-scientist-5-yrs-mumbai-pune-blr-chennai-exl-service-pune-chennai-bangalore-bengaluru-delhi-ncr-5-to-10-years-080721005255?src=jobsearchDesk&sid=16260839032145267&xp=5&px=1',\n",
       " 'https://www.naukri.com/job-listings-senior-data-scientist-fractal-analytics-ltd-mumbai-gurgaon-gurugram-bangalore-bengaluru-4-to-8-years-290621500776?src=jobsearchDesk&sid=16260839032145267&xp=6&px=1',\n",
       " 'https://www.naukri.com/job-listings-hcl-hiring-data-scientist-for-noida-location-hcl-technologies-limited-noida-chennai-4-to-9-years-230221006348?src=jobsearchDesk&sid=16260839032145267&xp=7&px=1',\n",
       " 'https://www.naukri.com/job-listings-team-lead-sr-scientist-analytics-data-science-global-analytics-india-pvt-ltd-chennai-delhi-ncr-3-to-8-years-110920002909?src=jobsearchDesk&sid=16260839032145267&xp=8&px=1',\n",
       " 'https://www.naukri.com/job-listings-data-scientist-sr-data-scientist-gartner-india-research-advisory-services-pvt-ltd-gurgaon-gurugram-4-to-8-years-070721500162?src=jobsearchDesk&sid=16260839032145267&xp=9&px=1',\n",
       " 'https://www.naukri.com/job-listings-senior-data-scientist-adv-ml-optum-global-solutions-india-private-limited-noida-6-to-11-years-050721905996?src=jobsearchDesk&sid=16260839032145267&xp=10&px=1',\n",
       " 'https://www.naukri.com/job-listings-senior-manager-data-scientist-sunshine-teahouse-pvt-ltd-delhi-ncr-6-to-8-years-050721004831?src=jobsearchDesk&sid=16260839032145267&xp=11&px=1',\n",
       " 'https://www.naukri.com/job-listings-lead-data-scientist-roundglass-gurgaon-gurugram-7-to-12-years-090721500205?src=jobsearchDesk&sid=16260839032145267&xp=12&px=1',\n",
       " 'https://www.naukri.com/job-listings-lead-data-scientist-roundglass-partners-rgp-gurgaon-gurugram-7-to-10-years-090721502009?src=jobsearchDesk&sid=16260839032145267&xp=13&px=1',\n",
       " 'https://www.naukri.com/job-listings-co-founder-principal-data-scientist-senior-scientist-benovymed-healthcare-gurgaon-gurugram-delhi-ncr-5-to-10-years-010721906105?src=jobsearchDesk&sid=16260839032145267&xp=14&px=1',\n",
       " 'https://www.naukri.com/job-listings-co-founder-principal-data-scientist-senior-data-scientist-benovymed-healthcare-private-limited-gurgaon-gurugram-delhi-ncr-2-to-7-years-300621907284?src=jobsearchDesk&sid=16260839032145267&xp=15&px=1',\n",
       " 'https://www.naukri.com/job-listings-developers-data-scientist-agreeya-solutions-india-private-limited-noida-3-to-5-years-070721501154?src=jobsearchDesk&sid=16260839032145267&xp=16&px=1',\n",
       " 'https://www.naukri.com/job-listings-data-scientist-noida-agreeya-solutions-india-private-limited-noida-3-to-7-years-170521001696?src=jobsearchDesk&sid=16260839032145267&xp=17&px=1',\n",
       " 'https://www.naukri.com/job-listings-data-scientist-agreeya-solutions-india-private-limited-noida-3-to-7-years-050721501318?src=jobsearchDesk&sid=16260839032145267&xp=18&px=1',\n",
       " 'https://www.naukri.com/job-listings-data-scientist-ebullient-securities-pvt-ltd-gurgaon-gurugram-4-to-8-years-090721002693?src=jobsearchDesk&sid=16260839032145267&xp=19&px=1',\n",
       " 'https://www.naukri.com/job-listings-data-scientist-insurance-huquo-consulting-pvt-ltd-noida-gurgaon-gurugram-2-to-7-years-060721902641?src=jobsearchDesk&sid=16260839032145267&xp=20&px=1']"
      ]
     },
     "execution_count": 33,
     "metadata": {},
     "output_type": "execute_result"
    }
   ],
   "source": [
    "job_opening_urls=[]\n",
    "\n",
    "url=driver.find_elements_by_xpath('//a[@class=\"title fw500 ellipsis\"]')\n",
    "for i in url:\n",
    "    job_opening_urls.append(i.get_attribute('href'))\n",
    "job_opening_urls"
   ]
  },
  {
   "cell_type": "code",
   "execution_count": 34,
   "metadata": {},
   "outputs": [
    {
     "data": {
      "text/plain": [
       "['Data Scientist/Data Analyst /Business Analyst',\n",
       " 'Team Leader Operations/Data Scientist',\n",
       " 'EXL - Senior Data Scientist, 5+ yrs, Mumbai / PUNE / BLR / Chennai',\n",
       " 'Senior Data Scientist',\n",
       " 'Data Scientist/ Sr Data Scientist',\n",
       " 'Senior Data Scientist - Adv ML',\n",
       " 'Senior Manager- Data Scientist',\n",
       " 'Lead , Data Scientist',\n",
       " 'Lead , Data Scientist',\n",
       " 'Co-Founder & Principal Data Scientist/Senior Scientist',\n",
       " 'Co-Founder - Principal Data Scientist/Senior Data Scientist',\n",
       " 'Developers Data Scientist',\n",
       " 'Data Scientist - Noida',\n",
       " 'Data Scientist',\n",
       " 'Data Scientist',\n",
       " 'Data Scientist - Insurance']"
      ]
     },
     "execution_count": 34,
     "metadata": {},
     "output_type": "execute_result"
    }
   ],
   "source": [
    "job_titles=[]\n",
    "for i in job_opening_urls:\n",
    "    driver.get(i)\n",
    "    job_title=driver.find_elements_by_xpath('//h1[@class=\"jd-header-title\"]')\n",
    "    for i in job_title:\n",
    "        job_titles.append(i.text)\n",
    "job_titles\n",
    "\n",
    "        "
   ]
  },
  {
   "cell_type": "code",
   "execution_count": 35,
   "metadata": {},
   "outputs": [],
   "source": [
    "#scrape data from multiple pages"
   ]
  },
  {
   "cell_type": "code",
   "execution_count": 55,
   "metadata": {},
   "outputs": [],
   "source": [
    "page_url=[]\n",
    "url=driver.find_elements_by_xpath('//div[@class=\"fleft pages\"]//a')"
   ]
  },
  {
   "cell_type": "code",
   "execution_count": 56,
   "metadata": {},
   "outputs": [],
   "source": [
    "for i in url:\n",
    "    page_url.append(i.get_attribute('href'))"
   ]
  },
  {
   "cell_type": "code",
   "execution_count": 57,
   "metadata": {},
   "outputs": [
    {
     "data": {
      "text/plain": [
       "['https://www.naukri.com/data-scientist-jobs-in-delhi',\n",
       " 'https://www.naukri.com/data-scientist-jobs-in-delhi-2',\n",
       " 'https://www.naukri.com/data-scientist-jobs-in-delhi-3',\n",
       " 'https://www.naukri.com/data-scientist-jobs-in-delhi-4',\n",
       " 'https://www.naukri.com/data-scientist-jobs-in-delhi-5',\n",
       " 'https://www.naukri.com/data-scientist-jobs-in-delhi-6',\n",
       " 'https://www.naukri.com/data-scientist-jobs-in-delhi-7',\n",
       " 'https://www.naukri.com/data-scientist-jobs-in-delhi-8',\n",
       " 'https://www.naukri.com/data-scientist-jobs-in-delhi-9',\n",
       " 'https://www.naukri.com/data-scientist-jobs-in-delhi-10']"
      ]
     },
     "execution_count": 57,
     "metadata": {},
     "output_type": "execute_result"
    }
   ],
   "source": [
    "page_url"
   ]
  },
  {
   "cell_type": "code",
   "execution_count": 61,
   "metadata": {},
   "outputs": [],
   "source": [
    "job_titles=[]\n",
    "for i in page_url:\n",
    "    driver.get(i)\n",
    "    titles_tag=driver.find_elements_by_xpath('//a[@class=\"title fw500 ellipsis\"]')\n",
    "    for i in titles_tag:\n",
    "        job_titles.append(i.text)"
   ]
  },
  {
   "cell_type": "code",
   "execution_count": 62,
   "metadata": {},
   "outputs": [
    {
     "data": {
      "text/plain": [
       "['Data Scientist / Data Analyst - ( BFSI Industry ) - New Delhi',\n",
       " 'Only Fresher / Data Scientist / Data Analyst / Analytics - MNC Jobs',\n",
       " 'Data Scientist & Analytics (Risk Mgnt), Banking Domain',\n",
       " 'Python Data Scientist',\n",
       " 'Python Data Scientist',\n",
       " 'Data Scientist',\n",
       " 'Data Scientist IV',\n",
       " 'CN - Strategy - MC - T&O - OA Data Scientist (NLP)',\n",
       " 'CN - Strategy - MC - T&O - OA Data Scientist ( NLP) - 11',\n",
       " 'Data Scientist',\n",
       " 'CN - Strategy - MC - T&O - OA Data Scientist (Advanced Analytics) - 09',\n",
       " 'Senior Data Scientist - Product Development Firm - IIT/ NIT/ BITS',\n",
       " 'Data Scientist',\n",
       " 'Data Scientist',\n",
       " 'Data Scientist - NLP/ML/Python',\n",
       " 'Data Scientist - Insurance - IIM/IIT/NIT',\n",
       " 'Data Scientist - Insurance - IIM/ IIT/ NIT',\n",
       " 'Data Scientist - BFSI',\n",
       " 'Data Scientist - Machine Learning/ NLP',\n",
       " 'SAVP - Data Scientist - Data Science Team - Insurance Domain',\n",
       " 'Hiring For Data Scientist / Data Analyst',\n",
       " 'Senior Data Scientist',\n",
       " 'Co-Founder & Principal Data Scientist/Senior Scientist - NLP/Python',\n",
       " 'Senior Data Scientist',\n",
       " 'Data Scientist / Data Analyst - Mobile Gaming Company',\n",
       " 'Data Scientist- Academic Operations- Pune, Chennai, Bangalore',\n",
       " 'Senior data scientist',\n",
       " 'Senior Data Scientist - Big Data/Databricks',\n",
       " 'Sr. Data Scientist',\n",
       " 'Senior Data Scientist',\n",
       " 'Senior Data Scientist',\n",
       " 'Senior Data Scientist with Python',\n",
       " 'Data Scientist',\n",
       " 'Looking For Data Scientist For Infogain',\n",
       " 'Data Scientist',\n",
       " 'Data Scientist',\n",
       " 'Data Scientist, Machine Learning',\n",
       " 'Data Engineer/Data Scientist/Data Analysis',\n",
       " 'Data Engineer/Data Scientist/Data Analysis',\n",
       " 'Lead Data Scientist',\n",
       " 'Data Analyst/Scientist- (Counterparty Credit risk)',\n",
       " 'Data Scientist - Machine Learning/ NLP',\n",
       " 'Data Scientist',\n",
       " 'Data Scientist -Delhi',\n",
       " 'MNC Hiring For \" Director- Data Scientist\" - Gurgaon',\n",
       " 'ML Engineer / Data Scientist',\n",
       " 'Farfetch - Senior Data Scientist',\n",
       " 'Senior Data Scientist',\n",
       " 'Senior Data Scientist',\n",
       " 'Senior Data Scientist',\n",
       " 'Senior Data Scientist',\n",
       " 'Sr. Data Scientist',\n",
       " 'Senior Deep Learning Data Scientist',\n",
       " 'Senior data scientist',\n",
       " 'Senior Data Scientist - Mobile Application',\n",
       " 'Data Scientist',\n",
       " 'Data Scientist (Solid experience in R ) Immediate Joiner Gurgaon',\n",
       " 'S&P Global - Lead Data Scientist, GGN / HYD 8+Years',\n",
       " 'Data - Analyst / Senior Analyst (Data Scientist) with Gaming Company',\n",
       " 'Lead Data Scientist',\n",
       " 'Data Scientist',\n",
       " 'Data Scientist',\n",
       " 'Data Scientist - Manufacturing Domain (SCM aspect) Location Open',\n",
       " 'CBTS is hiring Data Scientist',\n",
       " 'Data Scientist',\n",
       " 'Data Scientist',\n",
       " 'DATA SCIENTIST (Analytics Technology)',\n",
       " 'Data Scientist',\n",
       " 'Senior Manager - Data Scientist - Banking Domain - IIT/NIT/BITS',\n",
       " 'Machine Learning Engineer/ Data Scientist',\n",
       " 'Machine Learning Engineer / Data Scientist',\n",
       " 'Machine Learning Engineer / Data Scientist',\n",
       " 'Sr Data Analyst/Data Scientist',\n",
       " 'Data Scientist',\n",
       " 'Data Scientist',\n",
       " 'Associate Data Scientist',\n",
       " 'Associate Data Scientist',\n",
       " 'MNC Hiring For \" Director- Data Scientist\" - Gurgaon',\n",
       " 'Associate Vice President - Data Scientist - IIT/NIT/IIM/XLRI',\n",
       " 'Data Scientist',\n",
       " 'Data Scientist',\n",
       " 'Data Scientist',\n",
       " 'DATA SCIENTIST',\n",
       " 'Data Scientist',\n",
       " 'Data Scientist',\n",
       " 'Data Scientist - Noida',\n",
       " 'Data Scientist',\n",
       " 'DATA SCIENTIST',\n",
       " 'Data Scientist',\n",
       " 'Data Scientist',\n",
       " 'Data Scientist',\n",
       " 'Data Scientist',\n",
       " 'Data Scientist',\n",
       " 'Data Scientist',\n",
       " 'Data Scientist',\n",
       " 'DATA ARCHITECT/DATA SCIENTIST',\n",
       " 'Data Scientist',\n",
       " 'Data Scientist',\n",
       " 'Data Scientist - Text NLP | Noida',\n",
       " 'data scientist - biotechnology Jobs',\n",
       " 'Specialist data scientist',\n",
       " 'Manager- Data Scientist',\n",
       " 'Data Scientist',\n",
       " 'Data Scientist',\n",
       " 'Data Engineers /Data Scientist - CES IT LTD - CMMI LVL 5',\n",
       " 'Data Analyst/Scientist',\n",
       " 'Data Scientist (Time Series)',\n",
       " 'Data Scientist (NLP)',\n",
       " 'Data Scientist (Machine Learning & Python)',\n",
       " 'Data Scientist',\n",
       " 'Data Scientist - Insurance - IIM/ IIT/ NIT',\n",
       " 'Data Scientist - Process Excellence & Analytics',\n",
       " 'Data Scientist - BFSI',\n",
       " 'Lead - Data Scientist - Banking Domain - IIT/ NIT/ BITS',\n",
       " 'Data Scientist - Python - BFS - IIT/DSE/IIM/NIT',\n",
       " 'Data Scientist - Machine Learning/NLP',\n",
       " 'Data Scientist - Machine Learning',\n",
       " 'Data Scientist - BFSI',\n",
       " 'Data Scientist - Machine Learning/NLP',\n",
       " 'Sr.Data Scientist',\n",
       " 'Acon / Con - Data Scientist',\n",
       " 'Data Scientist - SAS/ SQL/ SPSS',\n",
       " 'Data Scientist',\n",
       " 'Data Scientist -Python, ML',\n",
       " 'Data Scientist',\n",
       " 'Data Scientist',\n",
       " 'Data Scientist',\n",
       " 'Data Scientist',\n",
       " 'Data Scientist',\n",
       " 'Data Scientist - KPO',\n",
       " 'Data Scientist (NLP + AWS)',\n",
       " 'Data Scientist (NLP + AWS)',\n",
       " 'SAVP Data Scientist',\n",
       " 'Data Analyst / Data Scientist - Gurgaon',\n",
       " 'Data Scientist',\n",
       " 'Data Scientist',\n",
       " 'Data Scientist',\n",
       " 'Data Scientist',\n",
       " 'Data Scientist',\n",
       " 'Data Scientist',\n",
       " 'Data Scientist',\n",
       " 'Data Scientist',\n",
       " 'Data Scientist',\n",
       " 'Data Scientist',\n",
       " 'Data Scientist',\n",
       " 'Data Scientist',\n",
       " 'Data Scientist',\n",
       " 'Data Scientist',\n",
       " 'Data Scientist',\n",
       " 'Data Scientist',\n",
       " 'Data Scientist',\n",
       " 'Data Scientist',\n",
       " 'Data Scientist',\n",
       " 'Data Scientist',\n",
       " 'Data Scientist',\n",
       " 'Data Scientist',\n",
       " 'Data Scientist',\n",
       " 'Data Scientist',\n",
       " 'Data Scientist',\n",
       " 'Data Scientist Jobs']"
      ]
     },
     "execution_count": 62,
     "metadata": {},
     "output_type": "execute_result"
    }
   ],
   "source": [
    "job_titles"
   ]
  },
  {
   "cell_type": "code",
   "execution_count": 63,
   "metadata": {},
   "outputs": [
    {
     "data": {
      "text/plain": [
       "160"
      ]
     },
     "execution_count": 63,
     "metadata": {},
     "output_type": "execute_result"
    }
   ],
   "source": [
    "len(job_titles)"
   ]
  },
  {
   "cell_type": "code",
   "execution_count": null,
   "metadata": {},
   "outputs": [],
   "source": []
  }
 ],
 "metadata": {
  "kernelspec": {
   "display_name": "Python 3",
   "language": "python",
   "name": "python3"
  },
  "language_info": {
   "codemirror_mode": {
    "name": "ipython",
    "version": 3
   },
   "file_extension": ".py",
   "mimetype": "text/x-python",
   "name": "python",
   "nbconvert_exporter": "python",
   "pygments_lexer": "ipython3",
   "version": "3.8.5"
  }
 },
 "nbformat": 4,
 "nbformat_minor": 4
}
